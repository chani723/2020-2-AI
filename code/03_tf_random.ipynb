{
  "nbformat": 4,
  "nbformat_minor": 0,
  "metadata": {
    "colab": {
      "name": "03-tf-random.ipynb",
      "provenance": [],
      "collapsed_sections": [],
      "authorship_tag": "ABX9TyOGzThxBm7cYNFl/wrirsPr",
      "include_colab_link": true
    },
    "kernelspec": {
      "name": "python3",
      "display_name": "Python 3"
    }
  },
  "cells": [
    {
      "cell_type": "markdown",
      "metadata": {
        "id": "view-in-github",
        "colab_type": "text"
      },
      "source": [
        "<a href=\"https://colab.research.google.com/github/chani723/2020-2-AI/blob/master/code/03_tf_random.ipynb\" target=\"_parent\"><img src=\"https://colab.research.google.com/assets/colab-badge.svg\" alt=\"Open In Colab\"/></a>"
      ]
    },
    {
      "cell_type": "code",
      "metadata": {
        "id": "T0A2Aw6w5BfH",
        "outputId": "9eca4aa2-a562-46a8-d6bf-656f977adb17",
        "colab": {
          "base_uri": "https://localhost:8080/",
          "height": 36
        }
      },
      "source": [
        "import tensorflow as tf\n",
        "tf.__version__"
      ],
      "execution_count": 2,
      "outputs": [
        {
          "output_type": "execute_result",
          "data": {
            "application/vnd.google.colaboratory.intrinsic+json": {
              "type": "string"
            },
            "text/plain": [
              "'2.3.0'"
            ]
          },
          "metadata": {
            "tags": []
          },
          "execution_count": 2
        }
      ]
    },
    {
      "cell_type": "code",
      "metadata": {
        "id": "bRnmGB7C-vm8",
        "outputId": "4d914f22-55c2-4d81-c8a4-d0795fb039c0",
        "colab": {
          "base_uri": "https://localhost:8080/",
          "height": 36
        }
      },
      "source": [
        "# 3.7 랜덤한 수 얻기 (균일 분포)\n",
        "rand = tf.random.uniform([1], 0, 1)\n",
        "print(rand)"
      ],
      "execution_count": 3,
      "outputs": [
        {
          "output_type": "stream",
          "text": [
            "tf.Tensor([0.46802378], shape=(1,), dtype=float32)\n"
          ],
          "name": "stdout"
        }
      ]
    },
    {
      "cell_type": "code",
      "metadata": {
        "id": "zPRyRP7N5m4L",
        "outputId": "8e2d5bf6-0df3-4de7-8a53-eb2cc31d074f",
        "colab": {
          "base_uri": "https://localhost:8080/",
          "height": 131
        }
      },
      "source": [
        "rand = tf.random.uniform([5, 4],0,1)\n",
        "print(rand)"
      ],
      "execution_count": 4,
      "outputs": [
        {
          "output_type": "stream",
          "text": [
            "tf.Tensor(\n",
            "[[0.27716684 0.3902614  0.8146318  0.2106632 ]\n",
            " [0.4664855  0.92073166 0.32855153 0.03408337]\n",
            " [0.5359523  0.43726814 0.13420999 0.7686422 ]\n",
            " [0.9745964  0.1394341  0.84749055 0.21746552]\n",
            " [0.88334954 0.68850803 0.77769935 0.12993431]], shape=(5, 4), dtype=float32)\n"
          ],
          "name": "stdout"
        }
      ]
    },
    {
      "cell_type": "code",
      "metadata": {
        "id": "Mh3p83y55txO",
        "outputId": "a018227a-815f-4264-a2f9-74a8e5064665",
        "colab": {
          "base_uri": "https://localhost:8080/",
          "height": 74
        }
      },
      "source": [
        "rand = tf.random.uniform([1000],0,10)\n",
        "print(rand[:10])"
      ],
      "execution_count": 5,
      "outputs": [
        {
          "output_type": "stream",
          "text": [
            "tf.Tensor(\n",
            "[6.0769773 7.1602416 9.883263  5.3601336 4.2214465 1.8192554 8.651356\n",
            " 2.1949196 0.6333041 4.134797 ], shape=(10,), dtype=float32)\n"
          ],
          "name": "stdout"
        }
      ]
    },
    {
      "cell_type": "code",
      "metadata": {
        "id": "ZYrNDfM152rt",
        "outputId": "efe2272b-bb3a-40cd-c76e-fbabfe65e9e9",
        "colab": {
          "base_uri": "https://localhost:8080/",
          "height": 379
        }
      },
      "source": [
        "import matplotlib.pyplot as plt\n",
        "rand = tf.random.uniform([10000], 0, 50)\n",
        "plt.hist(rand, bins=10)"
      ],
      "execution_count": 6,
      "outputs": [
        {
          "output_type": "execute_result",
          "data": {
            "text/plain": [
              "(array([1019.,  993., 1000.,  975.,  995.,  999.,  993., 1008., 1004.,\n",
              "        1014.]),\n",
              " array([5.69820404e-03, 5.00476313e+00, 1.00038280e+01, 1.50028925e+01,\n",
              "        2.00019569e+01, 2.50010223e+01, 3.00000858e+01, 3.49991531e+01,\n",
              "        3.99982147e+01, 4.49972801e+01, 4.99963455e+01], dtype=float32),\n",
              " <a list of 10 Patch objects>)"
            ]
          },
          "metadata": {
            "tags": []
          },
          "execution_count": 6
        },
        {
          "output_type": "display_data",
          "data": {
            "image/png": "[encoded data removed]",
            "text/plain": [
              "<Figure size 432x288 with 1 Axes>"
            ]
          },
          "metadata": {
            "tags": [],
            "needs_background": "light"
          }
        }
      ]
    },
    {
      "cell_type": "code",
      "metadata": {
        "id": "x5FrjVwU6piG",
        "outputId": "9c4ad917-19c5-4ae9-859f-4517a3904cb2",
        "colab": {
          "base_uri": "https://localhost:8080/",
          "height": 36
        }
      },
      "source": [
        "# 3.9 랜덤한 수 여러 개 얻기 (정규 분포)\n",
        "rand = tf.random.normal([4],0,1)\n",
        "print(rand)"
      ],
      "execution_count": 7,
      "outputs": [
        {
          "output_type": "stream",
          "text": [
            "tf.Tensor([-0.49763522  0.60654557 -0.5202174   1.2162265 ], shape=(4,), dtype=float32)\n"
          ],
          "name": "stdout"
        }
      ]
    },
    {
      "cell_type": "code",
      "metadata": {
        "id": "H1y7a1i77D9o",
        "outputId": "856606e6-1eb5-434a-a0dc-9e5db80e364d",
        "colab": {
          "base_uri": "https://localhost:8080/",
          "height": 74
        }
      },
      "source": [
        "# 3.9 랜덤한 수 여러 개 얻기 (정규 분포)\n",
        "rand = tf.random.normal([2, 4],0.2)\n",
        "print(rand)"
      ],
      "execution_count": 8,
      "outputs": [
        {
          "output_type": "stream",
          "text": [
            "tf.Tensor(\n",
            "[[ 1.0729928  -0.9642516  -0.24495094 -1.7512034 ]\n",
            " [-0.35150462  0.6737045   0.61274177 -0.08792894]], shape=(2, 4), dtype=float32)\n"
          ],
          "name": "stdout"
        }
      ]
    },
    {
      "cell_type": "code",
      "metadata": {
        "id": "YnEVygnB7NwX",
        "outputId": "00688504-86f6-4072-c5ca-28475718f47e",
        "colab": {
          "base_uri": "https://localhost:8080/",
          "height": 427
        }
      },
      "source": [
        "import matplotlib.pyplot as plt\n",
        "rand = tf.random.normal([100], 0, 1)\n",
        "plt.hist(rand, bins=10)"
      ],
      "execution_count": 21,
      "outputs": [
        {
          "output_type": "execute_result",
          "data": {
            "text/plain": [
              "(array([ 5.,  4.,  8., 14., 20., 20., 14.,  9.,  4.,  2.]),\n",
              " array([-2.212811  , -1.7480016 , -1.2831922 , -0.81838274, -0.35357332,\n",
              "         0.1112361 ,  0.5760455 ,  1.0408549 ,  1.5056643 ,  1.9704738 ,\n",
              "         2.4352832 ], dtype=float32),\n",
              " <a list of 10 Patch objects>)"
            ]
          },
          "metadata": {
            "tags": []
          },
          "execution_count": 21
        },
        {
          "output_type": "display_data",
          "data": {
            "image/png": "[encoded data removed]",
            "text/plain": [
              "<Figure size 864x432 with 1 Axes>"
            ]
          },
          "metadata": {
            "tags": [],
            "needs_background": "light"
          }
        }
      ]
    },
    {
      "cell_type": "code",
      "metadata": {
        "id": "1wWPO9_VV7T4",
        "outputId": "b1415f75-b059-4b86-c46c-3dab70d83be1",
        "colab": {
          "base_uri": "https://localhost:8080/",
          "height": 929
        }
      },
      "source": [
        "import matplotlib.pyplot as plt\n",
        "rand1 = tf.random.normal([1000], 0, 1)\n",
        "rand2 = tf.random.uniform([2000], 0, 1)\n",
        "plt.hist(rand1, bins=100)\n",
        "plt.hist(rand2, bins=100)"
      ],
      "execution_count": 18,
      "outputs": [
        {
          "output_type": "execute_result",
          "data": {
            "text/plain": [
              "(array([12., 16., 23., 22., 17., 35., 25., 18., 23., 12., 18., 24., 20.,\n",
              "        20., 24., 17., 20., 24., 26., 18., 16., 18., 13., 26., 18., 12.,\n",
              "        23., 27., 20., 14., 19., 17., 12., 15., 22., 26., 10., 23., 18.,\n",
              "        24., 16., 29., 22., 23., 22., 18., 22., 22., 22., 25., 18., 16.,\n",
              "        15., 26., 24., 13., 21., 18., 33., 19., 18., 25., 18., 18., 20.,\n",
              "        23., 14., 15., 17., 14., 18., 20., 21., 20., 15., 13., 20., 20.,\n",
              "        15., 20., 23., 22., 15., 22., 20., 17., 19., 17., 27., 28., 20.,\n",
              "        15., 23., 23., 15., 21., 28., 22., 21., 27.]),\n",
              " array([5.78880310e-04, 1.05677797e-02, 2.05566790e-02, 3.05455774e-02,\n",
              "        4.05344777e-02, 5.05233780e-02, 6.05122745e-02, 7.05011785e-02,\n",
              "        8.04900751e-02, 9.04789716e-02, 1.00467876e-01, 1.10456772e-01,\n",
              "        1.20445669e-01, 1.30434573e-01, 1.40423477e-01, 1.50412366e-01,\n",
              "        1.60401270e-01, 1.70390174e-01, 1.80379063e-01, 1.90367967e-01,\n",
              "        2.00356871e-01, 2.10345760e-01, 2.20334664e-01, 2.30323568e-01,\n",
              "        2.40312457e-01, 2.50301361e-01, 2.60290265e-01, 2.70279169e-01,\n",
              "        2.80268073e-01, 2.90256947e-01, 3.00245851e-01, 3.10234755e-01,\n",
              "        3.20223659e-01, 3.30212563e-01, 3.40201467e-01, 3.50190341e-01,\n",
              "        3.60179245e-01, 3.70168149e-01, 3.80157053e-01, 3.90145957e-01,\n",
              "        4.00134861e-01, 4.10123736e-01, 4.20112640e-01, 4.30101544e-01,\n",
              "        4.40090448e-01, 4.50079352e-01, 4.60068256e-01, 4.70057130e-01,\n",
              "        4.80046034e-01, 4.90034938e-01, 5.00023842e-01, 5.10012746e-01,\n",
              "        5.20001650e-01, 5.29990554e-01, 5.39979458e-01, 5.49968362e-01,\n",
              "        5.59957266e-01, 5.69946110e-01, 5.79935014e-01, 5.89923918e-01,\n",
              "        5.99912822e-01, 6.09901726e-01, 6.19890630e-01, 6.29879534e-01,\n",
              "        6.39868438e-01, 6.49857342e-01, 6.59846246e-01, 6.69835150e-01,\n",
              "        6.79824054e-01, 6.89812899e-01, 6.99801803e-01, 7.09790707e-01,\n",
              "        7.19779611e-01, 7.29768515e-01, 7.39757419e-01, 7.49746323e-01,\n",
              "        7.59735227e-01, 7.69724131e-01, 7.79713035e-01, 7.89701939e-01,\n",
              "        7.99690843e-01, 8.09679747e-01, 8.19668591e-01, 8.29657495e-01,\n",
              "        8.39646399e-01, 8.49635303e-01, 8.59624207e-01, 8.69613111e-01,\n",
              "        8.79602015e-01, 8.89590919e-01, 8.99579823e-01, 9.09568727e-01,\n",
              "        9.19557631e-01, 9.29546535e-01, 9.39535379e-01, 9.49524283e-01,\n",
              "        9.59513187e-01, 9.69502091e-01, 9.79490995e-01, 9.89479899e-01,\n",
              "        9.99468803e-01], dtype=float32),\n",
              " <a list of 100 Patch objects>)"
            ]
          },
          "metadata": {
            "tags": []
          },
          "execution_count": 18
        },
        {
          "output_type": "display_data",
          "data": {
            "image/png": "[encoded data removed]",
            "text/plain": [
              "<Figure size 432x288 with 1 Axes>"
            ]
          },
          "metadata": {
            "tags": [],
            "needs_background": "light"
          }
        }
      ]
    },
    {
      "cell_type": "code",
      "metadata": {
        "id": "B5kS0SeAWx4o",
        "outputId": "1bb58911-2899-4aeb-955a-2157954cbdf8",
        "colab": {
          "base_uri": "https://localhost:8080/",
          "height": 1000
        }
      },
      "source": [
        "import matplotlib.pyplot as plt\n",
        "rand1 = tf.random.normal([1000], 0, 1)\n",
        "rand2 = tf.random.uniform([2000], 0, 1)\n",
        "\n",
        "plt.rcParams[\"figure.figsize\"] = (12,6)\n",
        "fig, axes = plt.subplots(1, 2, sharex=True, sharey=True)\n",
        "axes[0].hist(rand1, bins=100)\n",
        "axes[1].hist(rand2, bins=100)"
      ],
      "execution_count": 19,
      "outputs": [
        {
          "output_type": "execute_result",
          "data": {
            "text/plain": [
              "(array([18., 23., 21., 15., 16., 20., 21., 13., 19., 17., 17., 19., 31.,\n",
              "        14., 27., 18., 21., 26., 23., 22., 21., 18., 21., 22., 22., 25.,\n",
              "        27., 14., 20., 13., 18., 23., 15., 21., 22., 16., 27., 13., 21.,\n",
              "        18., 20., 12., 19., 12., 21., 23., 12., 14., 16., 14., 20., 20.,\n",
              "        18., 22., 21., 24., 23., 28., 25., 14., 16., 16., 15., 20., 22.,\n",
              "        21., 26., 21., 15., 17., 21., 16., 13., 24., 24., 26., 17., 21.,\n",
              "        22., 23., 11., 25.,  6., 27., 34., 28., 35., 16., 25., 13., 22.,\n",
              "        21., 34., 18., 19., 17., 20., 16., 22., 19.]),\n",
              " array([2.3341179e-04, 1.0225461e-02, 2.0217510e-02, 3.0209558e-02,\n",
              "        4.0201608e-02, 5.0193656e-02, 6.0185704e-02, 7.0177756e-02,\n",
              "        8.0169804e-02, 9.0161853e-02, 1.0015390e-01, 1.1014595e-01,\n",
              "        1.2013800e-01, 1.3013005e-01, 1.4012210e-01, 1.5011415e-01,\n",
              "        1.6010620e-01, 1.7009825e-01, 1.8009029e-01, 1.9008234e-01,\n",
              "        2.0007439e-01, 2.1006644e-01, 2.2005849e-01, 2.3005053e-01,\n",
              "        2.4004258e-01, 2.5003463e-01, 2.6002669e-01, 2.7001873e-01,\n",
              "        2.8001079e-01, 2.9000282e-01, 2.9999489e-01, 3.0998692e-01,\n",
              "        3.1997898e-01, 3.2997102e-01, 3.3996308e-01, 3.4995511e-01,\n",
              "        3.5994717e-01, 3.6993921e-01, 3.7993127e-01, 3.8992330e-01,\n",
              "        3.9991537e-01, 4.0990740e-01, 4.1989946e-01, 4.2989150e-01,\n",
              "        4.3988356e-01, 4.4987559e-01, 4.5986766e-01, 4.6985969e-01,\n",
              "        4.7985175e-01, 4.8984379e-01, 4.9983585e-01, 5.0982791e-01,\n",
              "        5.1981997e-01, 5.2981198e-01, 5.3980404e-01, 5.4979610e-01,\n",
              "        5.5978817e-01, 5.6978017e-01, 5.7977223e-01, 5.8976430e-01,\n",
              "        5.9975636e-01, 6.0974836e-01, 6.1974043e-01, 6.2973249e-01,\n",
              "        6.3972455e-01, 6.4971656e-01, 6.5970862e-01, 6.6970068e-01,\n",
              "        6.7969275e-01, 6.8968475e-01, 6.9967681e-01, 7.0966887e-01,\n",
              "        7.1966094e-01, 7.2965294e-01, 7.3964500e-01, 7.4963707e-01,\n",
              "        7.5962913e-01, 7.6962119e-01, 7.7961320e-01, 7.8960526e-01,\n",
              "        7.9959732e-01, 8.0958939e-01, 8.1958139e-01, 8.2957345e-01,\n",
              "        8.3956552e-01, 8.4955758e-01, 8.5954958e-01, 8.6954165e-01,\n",
              "        8.7953371e-01, 8.8952577e-01, 8.9951777e-01, 9.0950984e-01,\n",
              "        9.1950190e-01, 9.2949396e-01, 9.3948597e-01, 9.4947803e-01,\n",
              "        9.5947009e-01, 9.6946216e-01, 9.7945416e-01, 9.8944622e-01,\n",
              "        9.9943829e-01], dtype=float32),\n",
              " <a list of 100 Patch objects>)"
            ]
          },
          "metadata": {
            "tags": []
          },
          "execution_count": 19
        },
        {
          "output_type": "display_data",
          "data": {
            "image/png": "[encoded data removed]",
            "text/plain": [
              "<Figure size 864x432 with 2 Axes>"
            ]
          },
          "metadata": {
            "tags": [],
            "needs_background": "light"
          }
        }
      ]
    },
    {
      "cell_type": "code",
      "metadata": {
        "id": "CUIeIKygXX9I",
        "outputId": "308ff5fc-8490-4463-9aeb-24c51d8d3192",
        "colab": {
          "base_uri": "https://localhost:8080/",
          "height": 55
        }
      },
      "source": [
        "import numpy as np\n",
        "a = np.arange(10)\n",
        "print(a)\n",
        "tf.random.shuffle(a)"
      ],
      "execution_count": 23,
      "outputs": [
        {
          "output_type": "stream",
          "text": [
            "[0 1 2 3 4 5 6 7 8 9]\n"
          ],
          "name": "stdout"
        },
        {
          "output_type": "execute_result",
          "data": {
            "text/plain": [
              "<tf.Tensor: shape=(10,), dtype=int64, numpy=array([2, 5, 8, 9, 4, 7, 1, 6, 3, 0])>"
            ]
          },
          "metadata": {
            "tags": []
          },
          "execution_count": 23
        }
      ]
    },
    {
      "cell_type": "code",
      "metadata": {
        "id": "ybqzhkAoX5Qj",
        "outputId": "054b9e04-0769-46e5-b5cf-82dcf9df5258",
        "colab": {
          "base_uri": "https://localhost:8080/",
          "height": 93
        }
      },
      "source": [
        "import numpy as np\n",
        "a = np.arange(20).reshape(4, 5)\n",
        "a"
      ],
      "execution_count": 28,
      "outputs": [
        {
          "output_type": "execute_result",
          "data": {
            "text/plain": [
              "array([[ 0,  1,  2,  3,  4],\n",
              "       [ 5,  6,  7,  8,  9],\n",
              "       [10, 11, 12, 13, 14],\n",
              "       [15, 16, 17, 18, 19]])"
            ]
          },
          "metadata": {
            "tags": []
          },
          "execution_count": 28
        }
      ]
    },
    {
      "cell_type": "code",
      "metadata": {
        "id": "hyT2y7M8YBHY",
        "outputId": "ed3a99a8-8773-4b07-a2bf-5b6757e85a8b",
        "colab": {
          "base_uri": "https://localhost:8080/",
          "height": 112
        }
      },
      "source": [
        "tf.random.shuffle(a)"
      ],
      "execution_count": 29,
      "outputs": [
        {
          "output_type": "execute_result",
          "data": {
            "text/plain": [
              "<tf.Tensor: shape=(4, 5), dtype=int64, numpy=\n",
              "array([[ 5,  6,  7,  8,  9],\n",
              "       [15, 16, 17, 18, 19],\n",
              "       [ 0,  1,  2,  3,  4],\n",
              "       [10, 11, 12, 13, 14]])>"
            ]
          },
          "metadata": {
            "tags": []
          },
          "execution_count": 29
        }
      ]
    },
    {
      "cell_type": "code",
      "metadata": {
        "id": "CLzPrb-qYLmN"
      },
      "source": [
        ""
      ],
      "execution_count": null,
      "outputs": []
    }
  ]
}